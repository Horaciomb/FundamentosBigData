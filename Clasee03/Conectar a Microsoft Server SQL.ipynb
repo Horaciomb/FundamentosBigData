{
 "cells": [
  {
   "cell_type": "code",
   "execution_count": 4,
   "metadata": {},
   "outputs": [
    {
     "name": "stdout",
     "output_type": "stream",
     "text": [
      "Requirement already satisfied: pyodbc in c:\\users\\sharo\\anaconda3\\lib\\site-packages (4.0.27)\n",
      "Requirement already satisfied: sqlalchemy in c:\\users\\sharo\\anaconda3\\lib\\site-packages (2.0.8)\n",
      "Requirement already satisfied: typing-extensions>=4.2.0 in c:\\users\\sharo\\anaconda3\\lib\\site-packages (from sqlalchemy) (4.4.0)\n",
      "Requirement already satisfied: importlib-metadata; python_version < \"3.8\" in c:\\users\\sharo\\anaconda3\\lib\\site-packages (from sqlalchemy) (6.7.0)\n",
      "Requirement already satisfied: greenlet!=0.4.17; platform_machine == \"aarch64\" or (platform_machine == \"ppc64le\" or (platform_machine == \"x86_64\" or (platform_machine == \"amd64\" or (platform_machine == \"AMD64\" or (platform_machine == \"win32\" or platform_machine == \"WIN32\"))))) in c:\\users\\sharo\\anaconda3\\lib\\site-packages (from sqlalchemy) (0.4.15)\n",
      "Requirement already satisfied: zipp>=0.5 in c:\\users\\sharo\\anaconda3\\lib\\site-packages (from importlib-metadata; python_version < \"3.8\"->sqlalchemy) (0.6.0)\n",
      "Requirement already satisfied: more-itertools in c:\\users\\sharo\\anaconda3\\lib\\site-packages (from zipp>=0.5->importlib-metadata; python_version < \"3.8\"->sqlalchemy) (7.2.0)\n",
      "Note: you may need to restart the kernel to use updated packages.\n"
     ]
    }
   ],
   "source": [
    "#pip install pyodbc sqlalchemy"
   ]
  },
  {
   "cell_type": "markdown",
   "metadata": {},
   "source": [
    "Si se presenta este error, correr la siguiente linea\n",
    "#ERROR: thinc 8.1.11 has requirement typing-extensions<4.5.0,>=3.7.4.1; python_version < \"3.8\", but you'll have typing-extensions 4.7.1 which is incompatible.\n"
   ]
  },
  {
   "cell_type": "code",
   "execution_count": 1,
   "metadata": {},
   "outputs": [],
   "source": [
    "#pip install --upgrade thinc\n"
   ]
  },
  {
   "cell_type": "code",
   "execution_count": null,
   "metadata": {},
   "outputs": [],
   "source": [
    "import pyodbc\n",
    "from sqlalchemy import create_engine"
   ]
  },
  {
   "cell_type": "code",
   "execution_count": 9,
   "metadata": {},
   "outputs": [],
   "source": [
    "# Completar los detalles de la conexión\n",
    "servidor = 'CCO-COMPUTER'\n",
    "base_de_datos = 'Hamburguers'\n",
    "# Para la autenticación de Windows, no se necesita un nombre de usuario ni una contraseña\n",
    "\n",
    "# Crear la cadena de conexión\n",
    "cadena_conexion = f'DRIVER={{SQL Server}};SERVER={servidor};DATABASE={base_de_datos};Trusted_Connection=yes;'\n",
    "\n",
    "# Establecer la conexión\n",
    "conn = pyodbc.connect(cadena_conexion)\n"
   ]
  },
  {
   "cell_type": "code",
   "execution_count": 10,
   "metadata": {},
   "outputs": [
    {
     "name": "stdout",
     "output_type": "stream",
     "text": [
      "(1, 1, 1, datetime.datetime(2023, 8, 14, 12, 30), 2, Decimal('17.98'))\n",
      "(2, 2, 2, datetime.datetime(2023, 8, 14, 18, 45), 1, Decimal('9.99'))\n"
     ]
    }
   ],
   "source": [
    "#  usar el objeto 'conn' para ejecutar consultas SQL\n",
    "cursor = conn.cursor()\n",
    "\n",
    "# Ejemplo: Ejecuta una consulta simple\n",
    "cursor.execute(\"SELECT * FROM Sales\")\n",
    "\n",
    "# Obtener los resultados\n",
    "filas = cursor.fetchall()\n",
    "for fila in filas:\n",
    "    print(fila)\n"
   ]
  },
  {
   "cell_type": "code",
   "execution_count": null,
   "metadata": {},
   "outputs": [],
   "source": [
    "\n"
   ]
  },
  {
   "cell_type": "code",
   "execution_count": 7,
   "metadata": {},
   "outputs": [],
   "source": [
    "# Cerrar la conexión cuando hayas terminado\n",
    "conn.close()"
   ]
  }
 ],
 "metadata": {
  "kernelspec": {
   "display_name": "Python 3",
   "language": "python",
   "name": "python3"
  },
  "language_info": {
   "codemirror_mode": {
    "name": "ipython",
    "version": 3
   },
   "file_extension": ".py",
   "mimetype": "text/x-python",
   "name": "python",
   "nbconvert_exporter": "python",
   "pygments_lexer": "ipython3",
   "version": "3.7.4"
  }
 },
 "nbformat": 4,
 "nbformat_minor": 2
}
