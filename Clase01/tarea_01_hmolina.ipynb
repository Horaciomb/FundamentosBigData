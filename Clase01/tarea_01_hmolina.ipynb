{
 "cells": [
  {
   "cell_type": "code",
   "execution_count": 71,
   "id": "8afd29ac",
   "metadata": {},
   "outputs": [],
   "source": [
    "import os\n",
    "import spotipy\n",
    "from spotipy.oauth2 import SpotifyClientCredentials"
   ]
  },
  {
   "cell_type": "code",
   "execution_count": 72,
   "id": "07f38e9a",
   "metadata": {},
   "outputs": [],
   "source": [
    "# Ingresa las claves de tu app en el Dashboard de spotify\n",
    "client_id = \"9f25cfc8480b4032ad3d6a9d59933d05\"\n",
    "client_secret = \"007ca8de9e384baebbd731f14500e256\""
   ]
  },
  {
   "cell_type": "code",
   "execution_count": 73,
   "id": "4388a68a",
   "metadata": {},
   "outputs": [],
   "source": [
    "os.environ[\"SPOTIPY_CLIENT_ID\"] = client_id\n",
    "os.environ[\"SPOTIPY_CLIENT_SECRET\"] = client_secret"
   ]
  },
  {
   "cell_type": "code",
   "execution_count": 74,
   "id": "2bc9d846",
   "metadata": {},
   "outputs": [],
   "source": [
    "client_credentials_manager = SpotifyClientCredentials()\n",
    "sp = spotipy.Spotify(client_credentials_manager=client_credentials_manager)\n"
   ]
  },
  {
   "cell_type": "markdown",
   "id": "2c5bcf1e",
   "metadata": {},
   "source": [
    "## 1. Elija un país de su interés, encuentre el top 10 de canciones. \n"
   ]
  },
  {
   "cell_type": "markdown",
   "id": "82410f85",
   "metadata": {},
   "source": [
    "No se porque no  pude hacer lo del país pero hago el ejercicio con cualquier otra playlist"
   ]
  },
  {
   "cell_type": "code",
   "execution_count": 75,
   "id": "4edcc98c",
   "metadata": {},
   "outputs": [
    {
     "name": "stdout",
     "output_type": "stream",
     "text": [
      "1: Run Dancehall - Main Phase\n",
      "2: Shell - Main Phase\n",
      "3: Natural Mission - Bakey Remix - Redders, Sam Binga, BAKEY\n",
      "4: Whale Dub - Main Phase\n",
      "5: Gangster Time - Interplanetary Criminal, Killa P\n",
      "6: T.H.C (The Hardest Cru) - Ruff Kru, Interplanetary Criminal, Main Phase, DJ Cosworth\n",
      "7: Backshot - ATW, Interplanetary Criminal, Main Phase\n",
      "8: Treat Me Right - Main Phase\n",
      "9: Wine - Soul Mass Transit System\n",
      "10: Lessons (Interplanetary Criminal ‘Back 2 Skool’ Mix) - Conducta, Interplanetary Criminal\n"
     ]
    }
   ],
   "source": [
    "playlist_id = \"5oPR6fkA6bP7RJ1fiNBWwO\"\n",
    "results = sp.playlist_items(playlist_id, fields=\"items.track.name,items.track.artists.name\", limit=10)\n",
    "\n",
    "ukg_tracks = [\n",
    "    {\n",
    "        \"posición\": idx + 1,\n",
    "        \"título\": item[\"track\"][\"name\"],\n",
    "        \"artistas\": [a[\"name\"] for a in item[\"track\"][\"artists\"]]\n",
    "    }\n",
    "    for idx, item in enumerate(results[\"items\"])\n",
    "]\n",
    "\n",
    "for song in ukg_tracks:\n",
    "    print(f'{song[\"posición\"]}: {song[\"título\"]} - {\", \".join(song[\"artistas\"])}')\n"
   ]
  },
  {
   "cell_type": "markdown",
   "id": "fda72d6c",
   "metadata": {},
   "source": [
    "## 2. Elija una situación que le llame la atención (Ejemplo: canciones por la guerra en Ucrania), ubique cuántas playlists tienen ese título."
   ]
  },
  {
   "cell_type": "code",
   "execution_count": 76,
   "id": "1e08b499",
   "metadata": {},
   "outputs": [
    {
     "name": "stdout",
     "output_type": "stream",
     "text": [
      "Se encontraron 860 playlists con el título 'Godzilla vs Kong'.\n"
     ]
    }
   ],
   "source": [
    "query = \"Godzilla vs Kong\"\n",
    "playlists = sp.search(q=query, type=\"playlist\", limit=50)\n",
    "total_playlists = playlists[\"playlists\"][\"total\"]\n",
    "\n",
    "print(f\"Se encontraron {total_playlists} playlists con el título '{query}'.\")\n",
    "\n"
   ]
  },
  {
   "cell_type": "markdown",
   "id": "58e3d9bb",
   "metadata": {},
   "source": [
    "## 3. Elija una canción que le gusta, ubique cuántas canciones tienen el mismo título y por qué artista. \n"
   ]
  },
  {
   "cell_type": "code",
   "execution_count": 77,
   "id": "97c7e068",
   "metadata": {},
   "outputs": [
    {
     "name": "stdout",
     "output_type": "stream",
     "text": [
      "Se encontraron 11 pistas tituladas 'Adiós':\n",
      "  • ADIÓS — Maria Becerra\n",
      "  • Adiós — Gustavo Cerati\n",
      "  • Adiós — Kevin Kaarl\n",
      "  • ADIÓS — Dante\n",
      "  • Adiós — Don Omar\n",
      "  • Adiós — Matías Valdez, Gonzalo Castillo\n",
      "  • Adiós — Sebastian Yatra\n",
      "  • Adiós — Sebastian Yatra\n",
      "  • Adiós — Macario Martínez\n",
      "  • Adiós — Eladio Carrion\n",
      "  • Adiós — Ricky Martin\n"
     ]
    }
   ],
   "source": [
    "track_name = \"Adiós\"\n",
    "results = sp.search(q=f'track:\"{track_name}\"', type=\"track\", limit=50)\n",
    "\n",
    "# Extraer todos los ítems con mismo nombre exacto\n",
    "matches = [\n",
    "    item for item in results[\"tracks\"][\"items\"]\n",
    "    if item[\"name\"].lower() == track_name.lower()\n",
    "]\n",
    "\n",
    "print(f\"Se encontraron {len(matches)} pistas tituladas '{track_name}':\")\n",
    "for t in matches:\n",
    "    artists = \", \".join(a[\"name\"] for a in t[\"artists\"])\n",
    "    print(f\"  • {t['name']} — {artists}\")\n"
   ]
  },
  {
   "cell_type": "markdown",
   "id": "92dbd913",
   "metadata": {},
   "source": [
    "## 4. Busque las canciones de su artista favorito. \n"
   ]
  },
  {
   "cell_type": "code",
   "execution_count": 78,
   "id": "82ee6d18",
   "metadata": {},
   "outputs": [
    {
     "name": "stdout",
     "output_type": "stream",
     "text": [
      "Top 10 de Lil Supa:\n",
      "1. La Sabia Escuela\n",
      "2. Mista Uanteik\n",
      "3. 光 Luz\n",
      "4. Fe de Errata\n",
      "5. Hambre\n",
      "6. Valórate\n",
      "7. Fe de Errata\n",
      "8. Ímpetu\n",
      "9. Culto\n",
      "10. '99\n"
     ]
    }
   ],
   "source": [
    "artist_name = \"Lil Supa\"\n",
    "# 1) Buscar el artista\n",
    "res = sp.search(q=f'artist:\"{artist_name}\"', type=\"artist\", limit=1)\n",
    "artist = res[\"artists\"][\"items\"][0]\n",
    "artist_id = artist[\"id\"]\n",
    "\n",
    "# 2) Obtener sus 10 canciones más populares\n",
    "top_tracks = sp.artist_top_tracks(artist_id, country=\"US\")\n",
    "\n",
    "print(f\"Top 10 de {artist_name}:\")\n",
    "for idx, track in enumerate(top_tracks[\"tracks\"][:10], 1):\n",
    "    print(f\"{idx}. {track['name']}\")\n"
   ]
  },
  {
   "cell_type": "markdown",
   "id": "18e1f228",
   "metadata": {},
   "source": [
    "## 5. Encuentre otra información que le interese, como por ejemplo el año de creación de un álbum y extráigala con código. "
   ]
  },
  {
   "cell_type": "code",
   "execution_count": 79,
   "id": "8910c56c",
   "metadata": {},
   "outputs": [
    {
     "name": "stdout",
     "output_type": "stream",
     "text": [
      "Álbum: YEYO\n",
      "Fecha de lanzamiento: 2022-02-22\n",
      "Artistas: Lil Supa\n",
      "Total de pistas: 20\n",
      "1. EL GOLPE - 128623 ms\n",
      "2. CLOACA - 179576 ms\n",
      "3. ...MIERDA - 168725 ms\n",
      "4. GUISO - 215507 ms\n",
      "5. PLATA - 156178 ms\n",
      "6. ÓXIDO - 191963 ms\n",
      "7. CADÁVER. - 136192 ms\n",
      "8. ODIO - 165420 ms\n",
      "9. ASALTO - 157266 ms\n",
      "10. (ASCO) - 145981 ms\n",
      "11. GRIS - 142439 ms\n",
      "12. POLVO - 224931 ms\n",
      "13. *NIEVE - 220439 ms\n",
      "14. CRISTAL - 209631 ms\n",
      "15. CHARCO* - 99740 ms\n",
      "16. LACRA - 145685 ms\n",
      "17. RODMAN - 170222 ms\n",
      "18. ¡SAPOS! - 65253 ms\n",
      "19. BUITRE - 190389 ms\n",
      "20. HÉCTOR - 204738 ms\n"
     ]
    }
   ],
   "source": [
    "album_id = \"2omBpLdhqRgjBneDnziZpp\"  # ID de YEYO\n",
    "album = sp.album(album_id)\n",
    "print(f\"Álbum: {album['name']}\")\n",
    "print(f\"Fecha de lanzamiento: {album['release_date']}\")\n",
    "print(f\"Artistas: {', '.join(a['name'] for a in album['artists'])}\")\n",
    "print(f\"Total de pistas: {album['total_tracks']}\")\n",
    "# print(f\"Genero: {album['tracks']}\")\n",
    "# PISTAS NOMBRE POR NOMNBRE\n",
    "for i in album['tracks']['items']:\n",
    "    print(f\"{i['track_number']}. {i['name']} - {i['duration_ms']} ms\")"
   ]
  }
 ],
 "metadata": {
  "kernelspec": {
   "display_name": "venv",
   "language": "python",
   "name": "python3"
  },
  "language_info": {
   "codemirror_mode": {
    "name": "ipython",
    "version": 3
   },
   "file_extension": ".py",
   "mimetype": "text/x-python",
   "name": "python",
   "nbconvert_exporter": "python",
   "pygments_lexer": "ipython3",
   "version": "3.13.2"
  }
 },
 "nbformat": 4,
 "nbformat_minor": 5
}
