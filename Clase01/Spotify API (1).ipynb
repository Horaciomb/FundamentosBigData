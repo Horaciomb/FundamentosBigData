{
 "cells": [
  {
   "cell_type": "markdown",
   "metadata": {},
   "source": [
    "1. Accede a spotify con tu cuenta: https://developer.spotify.com/documentation/web-api\n",
    "2. Ingresa al dashboard con tu cuenta https://developer.spotify.com/dashboard\n",
    "3. Crea una app con una variante del nombre Fundamentos Big Data, explica que es un ejercicio de clase, la URL y URI son las mismas, elige una direccion de pagina web a la que tengas acceso\n",
    "4. Copia el Client ID y Client Secret de la app que acabas de crear\n",
    "5. Instalar la libreria de python para la api de spotify\n"
   ]
  },
  {
   "cell_type": "code",
   "execution_count": 56,
   "metadata": {},
   "outputs": [],
   "source": [
    "#no necesario: pip install typing-extensions==3.10.0.0"
   ]
  },
  {
   "cell_type": "code",
   "execution_count": 57,
   "metadata": {},
   "outputs": [],
   "source": [
    "# no necesario: pip install --upgrade spacy\n"
   ]
  },
  {
   "cell_type": "markdown",
   "metadata": {},
   "source": [
    "Necesario instalar:"
   ]
  },
  {
   "cell_type": "code",
   "execution_count": 58,
   "metadata": {},
   "outputs": [],
   "source": [
    "#pip install spotipy\n"
   ]
  },
  {
   "cell_type": "code",
   "execution_count": 59,
   "metadata": {},
   "outputs": [],
   "source": [
    "import spotipy\n",
    "from spotipy.oauth2 import SpotifyClientCredentials"
   ]
  },
  {
   "cell_type": "code",
   "execution_count": 60,
   "metadata": {},
   "outputs": [],
   "source": [
    "#librerias necesarias para la conexion\n",
    "import requests\n",
    "import json"
   ]
  },
  {
   "cell_type": "code",
   "execution_count": 61,
   "metadata": {},
   "outputs": [],
   "source": [
    "# Ingresa las claves de tu app en el Dashboard de spotify\n",
    "client_id = \"9f25cfc8480b4032ad3d6a9d59933d05\"\n",
    "client_secret = \"007ca8de9e384baebbd731f14500e256\"\n"
   ]
  },
  {
   "cell_type": "code",
   "execution_count": 62,
   "metadata": {},
   "outputs": [],
   "source": [
    "# Iniciar el cliente de spotify\n",
    "client_credentials_manager = SpotifyClientCredentials(client_id=client_id, client_secret=client_secret)\n",
    "sp = spotipy.Spotify(client_credentials_manager=client_credentials_manager)\n"
   ]
  },
  {
   "cell_type": "markdown",
   "metadata": {},
   "source": [
    "### Encontrar las mas populares"
   ]
  },
  {
   "cell_type": "code",
   "execution_count": 63,
   "metadata": {},
   "outputs": [],
   "source": [
    "# Lista Top 50, encontrar las 10 mas escuchadas\n",
    "top_tracks = sp.playlist_tracks('7nppx7uLgcmkZHg70HNfOk', limit=9) "
   ]
  },
  {
   "cell_type": "code",
   "execution_count": 64,
   "metadata": {},
   "outputs": [
    {
     "name": "stdout",
     "output_type": "stream",
     "text": [
      "1. The Less I Know The Better by Mau P\n",
      "2. Don't Stop by Prospa\n",
      "3. Stay by FISHER\n",
      "4. Jump n' Shout by Chapter & Verse\n",
      "5. At Ya by Kyle Watson\n",
      "6. Saving It All by BYOR\n",
      "7. Toxic by Chris Lake\n",
      "8. La Banda by Torren Foot\n",
      "9. I Like It by CASSIMM\n"
     ]
    }
   ],
   "source": [
    "# Imprimir el nombre de las 10 mas escuchadas\n",
    "for idx, track in enumerate(top_tracks['items']):\n",
    "    track_name = track['track']['name']\n",
    "    artist_name = track['track']['artists'][0]['name']\n",
    "    print(f\"{idx + 1}. {track_name} by {artist_name}\")"
   ]
  },
  {
   "cell_type": "markdown",
   "metadata": {},
   "source": [
    "### Encontrar playlists"
   ]
  },
  {
   "cell_type": "code",
   "execution_count": 65,
   "metadata": {},
   "outputs": [],
   "source": [
    "# Buscar una playlist por su nombre\n",
    "playlist_results = sp.search(q='Trap', type='playlist')"
   ]
  },
  {
   "cell_type": "code",
   "execution_count": 66,
   "metadata": {},
   "outputs": [
    {
     "data": {
      "text/plain": [
       "{'playlists': {'href': 'https://api.spotify.com/v1/search?offset=0&limit=10&query=Trap&type=playlist',\n",
       "  'limit': 10,\n",
       "  'next': 'https://api.spotify.com/v1/search?offset=10&limit=10&query=Trap&type=playlist',\n",
       "  'offset': 0,\n",
       "  'previous': None,\n",
       "  'total': 102,\n",
       "  'items': [{'collaborative': False,\n",
       "    'description': '',\n",
       "    'external_urls': {'spotify': 'https://open.spotify.com/playlist/6vp0gGYzbksaj1Kz25O2vj'},\n",
       "    'href': 'https://api.spotify.com/v1/playlists/6vp0gGYzbksaj1Kz25O2vj',\n",
       "    'id': '6vp0gGYzbksaj1Kz25O2vj',\n",
       "    'images': [{'height': 640,\n",
       "      'url': 'https://mosaic.scdn.co/640/ab67616d00001e022e2343e818324af91d59c830ab67616d00001e02638d3cdf37fa447977e29e94ab67616d00001e028cce3c807c4a560c09a86e9aab67616d00001e02b4f4347f63b7c7835d99e85d',\n",
       "      'width': 640},\n",
       "     {'height': 300,\n",
       "      'url': 'https://mosaic.scdn.co/300/ab67616d00001e022e2343e818324af91d59c830ab67616d00001e02638d3cdf37fa447977e29e94ab67616d00001e028cce3c807c4a560c09a86e9aab67616d00001e02b4f4347f63b7c7835d99e85d',\n",
       "      'width': 300},\n",
       "     {'height': 60,\n",
       "      'url': 'https://mosaic.scdn.co/60/ab67616d00001e022e2343e818324af91d59c830ab67616d00001e02638d3cdf37fa447977e29e94ab67616d00001e028cce3c807c4a560c09a86e9aab67616d00001e02b4f4347f63b7c7835d99e85d',\n",
       "      'width': 60}],\n",
       "    'name': 'TRAP 2015, 2016, 2017, 2018 y 2019 👹',\n",
       "    'owner': {'display_name': 'Angela',\n",
       "     'external_urls': {'spotify': 'https://open.spotify.com/user/314txrsbqxljnn65xycqnoo57pwi'},\n",
       "     'href': 'https://api.spotify.com/v1/users/314txrsbqxljnn65xycqnoo57pwi',\n",
       "     'id': '314txrsbqxljnn65xycqnoo57pwi',\n",
       "     'type': 'user',\n",
       "     'uri': 'spotify:user:314txrsbqxljnn65xycqnoo57pwi'},\n",
       "    'primary_color': None,\n",
       "    'public': True,\n",
       "    'snapshot_id': 'AAAAAhPmdntiprBCESrjCOZ5mlAZHNWe',\n",
       "    'tracks': {'href': 'https://api.spotify.com/v1/playlists/6vp0gGYzbksaj1Kz25O2vj/tracks',\n",
       "     'total': 86},\n",
       "    'type': 'playlist',\n",
       "    'uri': 'spotify:playlist:6vp0gGYzbksaj1Kz25O2vj'},\n",
       "   None,\n",
       "   {'collaborative': False,\n",
       "    'description': 'Trap 2016. Lo mejor del trap latino. Bad Bunny, Anuel, Almigthy, Bryant Myers, Noriel, Brytiago, Darell, Jon Z, Lary Over, Juhn y Ozuna te esperan. IG: JhordyOrtizCs',\n",
       "    'external_urls': {'spotify': 'https://open.spotify.com/playlist/2AvH6y4sXfpNDOes73jyyc'},\n",
       "    'href': 'https://api.spotify.com/v1/playlists/2AvH6y4sXfpNDOes73jyyc',\n",
       "    'id': '2AvH6y4sXfpNDOes73jyyc',\n",
       "    'images': [{'height': 640,\n",
       "      'url': 'https://mosaic.scdn.co/640/ab67616d00001e02752783f79fcfb43798e47137ab67616d00001e02c64054202880541e73327dcaab67616d00001e02eeaaa69786db98d2bf2771ebab67616d00001e02f62aa1dd0b43f583418cd018',\n",
       "      'width': 640},\n",
       "     {'height': 300,\n",
       "      'url': 'https://mosaic.scdn.co/300/ab67616d00001e02752783f79fcfb43798e47137ab67616d00001e02c64054202880541e73327dcaab67616d00001e02eeaaa69786db98d2bf2771ebab67616d00001e02f62aa1dd0b43f583418cd018',\n",
       "      'width': 300},\n",
       "     {'height': 60,\n",
       "      'url': 'https://mosaic.scdn.co/60/ab67616d00001e02752783f79fcfb43798e47137ab67616d00001e02c64054202880541e73327dcaab67616d00001e02eeaaa69786db98d2bf2771ebab67616d00001e02f62aa1dd0b43f583418cd018',\n",
       "      'width': 60}],\n",
       "    'name': 'Trap Antiguo 😈',\n",
       "    'owner': {'display_name': 'JhordyOrtiz',\n",
       "     'external_urls': {'spotify': 'https://open.spotify.com/user/11175185753'},\n",
       "     'href': 'https://api.spotify.com/v1/users/11175185753',\n",
       "     'id': '11175185753',\n",
       "     'type': 'user',\n",
       "     'uri': 'spotify:user:11175185753'},\n",
       "    'primary_color': None,\n",
       "    'public': True,\n",
       "    'snapshot_id': 'AAAFI0zCVHjeJntZwriP0+3mgJV4/9j8',\n",
       "    'tracks': {'href': 'https://api.spotify.com/v1/playlists/2AvH6y4sXfpNDOes73jyyc/tracks',\n",
       "     'total': 167},\n",
       "    'type': 'playlist',\n",
       "    'uri': 'spotify:playlist:2AvH6y4sXfpNDOes73jyyc'},\n",
       "   {'collaborative': False,\n",
       "    'description': '¡Lo + escuchado del momento! Los éxitos 2025 de reggaeton hits, trap (latino, español y argentino), música latina, pop latino y pop inglés y éxitos en general. Son los hits más destacados. Musica actual y éxitos 2020s.  Canciones 2025 más escuchadas ft. Blackout Emilia, Tini Nicki Nicole',\n",
       "    'external_urls': {'spotify': 'https://open.spotify.com/playlist/1sAVKbeZfl9IjAST4MNnYb'},\n",
       "    'href': 'https://api.spotify.com/v1/playlists/1sAVKbeZfl9IjAST4MNnYb',\n",
       "    'id': '1sAVKbeZfl9IjAST4MNnYb',\n",
       "    'images': [{'height': None,\n",
       "      'url': 'https://image-cdn-ak.spotifycdn.com/image/ab67706c0000d72cbf3a2c432c8193a75518be1f',\n",
       "      'width': None}],\n",
       "    'name': ' Lo Mas Escuchado 2025 : Éxitos Abril 2025',\n",
       "    'owner': {'display_name': 'Filtr Éxitos',\n",
       "     'external_urls': {'spotify': 'https://open.spotify.com/user/mejoresplaylistsspotify'},\n",
       "     'href': 'https://api.spotify.com/v1/users/mejoresplaylistsspotify',\n",
       "     'id': 'mejoresplaylistsspotify',\n",
       "     'type': 'user',\n",
       "     'uri': 'spotify:user:mejoresplaylistsspotify'},\n",
       "    'primary_color': None,\n",
       "    'public': True,\n",
       "    'snapshot_id': 'AAAURiEyw1Al3+SntVOF0EbUVgGov4oH',\n",
       "    'tracks': {'href': 'https://api.spotify.com/v1/playlists/1sAVKbeZfl9IjAST4MNnYb/tracks',\n",
       "     'total': 251},\n",
       "    'type': 'playlist',\n",
       "    'uri': 'spotify:playlist:1sAVKbeZfl9IjAST4MNnYb'},\n",
       "   {'collaborative': False,\n",
       "    'description': 'Trap viejo , Trap latino  Eladio Carrion, Bad Bunny, Anuel AA, Bryan Myers Noriel jamby Arcangel ozuna Almighty',\n",
       "    'external_urls': {'spotify': 'https://open.spotify.com/playlist/3sb9xMhsdvAdLGrGX6lEMb'},\n",
       "    'href': 'https://api.spotify.com/v1/playlists/3sb9xMhsdvAdLGrGX6lEMb',\n",
       "    'id': '3sb9xMhsdvAdLGrGX6lEMb',\n",
       "    'images': [{'height': None,\n",
       "      'url': 'https://image-cdn-ak.spotifycdn.com/image/ab67706c0000da84d1aa2ad9b73ac1312c274ece',\n",
       "      'width': None}],\n",
       "    'name': 'TRAP 2016/2017/2018 😈',\n",
       "    'owner': {'display_name': 'TrapCity',\n",
       "     'external_urls': {'spotify': 'https://open.spotify.com/user/1137313476'},\n",
       "     'href': 'https://api.spotify.com/v1/users/1137313476',\n",
       "     'id': '1137313476',\n",
       "     'type': 'user',\n",
       "     'uri': 'spotify:user:1137313476'},\n",
       "    'primary_color': None,\n",
       "    'public': True,\n",
       "    'snapshot_id': 'AAAPsslwNokkSjY8AjafytD+/vEP+e4V',\n",
       "    'tracks': {'href': 'https://api.spotify.com/v1/playlists/3sb9xMhsdvAdLGrGX6lEMb/tracks',\n",
       "     'total': 86},\n",
       "    'type': 'playlist',\n",
       "    'uri': 'spotify:playlist:3sb9xMhsdvAdLGrGX6lEMb'},\n",
       "   {'collaborative': False,\n",
       "    'description': '¡Lo mas escuchado del Trap Argentino! - Actualizada Diariamente - Contacto:  @playlister.pro ',\n",
       "    'external_urls': {'spotify': 'https://open.spotify.com/playlist/37h7IcJh5jfhG6fImCIV7Y'},\n",
       "    'href': 'https://api.spotify.com/v1/playlists/37h7IcJh5jfhG6fImCIV7Y',\n",
       "    'id': '37h7IcJh5jfhG6fImCIV7Y',\n",
       "    'images': [{'height': None,\n",
       "      'url': 'https://image-cdn-ak.spotifycdn.com/image/ab67706c0000da8494c9e4a4c34b1adcd6bc3ebf',\n",
       "      'width': None}],\n",
       "    'name': 'TRAP ARGENTINO 🇦🇷',\n",
       "    'owner': {'display_name': 'Playlister.Pro',\n",
       "     'external_urls': {'spotify': 'https://open.spotify.com/user/317bpzm6q5iaou6nqkgwozgkb3je'},\n",
       "     'href': 'https://api.spotify.com/v1/users/317bpzm6q5iaou6nqkgwozgkb3je',\n",
       "     'id': '317bpzm6q5iaou6nqkgwozgkb3je',\n",
       "     'type': 'user',\n",
       "     'uri': 'spotify:user:317bpzm6q5iaou6nqkgwozgkb3je'},\n",
       "    'primary_color': None,\n",
       "    'public': True,\n",
       "    'snapshot_id': 'AAACTTZeukZc4TXOIwIVtU0f4241OMVi',\n",
       "    'tracks': {'href': 'https://api.spotify.com/v1/playlists/37h7IcJh5jfhG6fImCIV7Y/tracks',\n",
       "     'total': 115},\n",
       "    'type': 'playlist',\n",
       "    'uri': 'spotify:playlist:37h7IcJh5jfhG6fImCIV7Y'},\n",
       "   None,\n",
       "   None,\n",
       "   None,\n",
       "   {'collaborative': False,\n",
       "    'description': 'Lo mejor de LODVG con Amaia y Leire; todos sus grandes éxitos: Rosas, La Playa, Muñeca de Trapo, Jueves, Cuídate, Puedes Contar Conmigo, París... ¡Disfruta de sus Éxitos! La Oreja de Van Gogh ',\n",
       "    'external_urls': {'spotify': 'https://open.spotify.com/playlist/6UIT0dRj63FoxNEHWMqUAX'},\n",
       "    'href': 'https://api.spotify.com/v1/playlists/6UIT0dRj63FoxNEHWMqUAX',\n",
       "    'id': '6UIT0dRj63FoxNEHWMqUAX',\n",
       "    'images': [{'height': None,\n",
       "      'url': 'https://image-cdn-ak.spotifycdn.com/image/ab67706c0000da84bd99143e868a77008855833e',\n",
       "      'width': None}],\n",
       "    'name': ' La Oreja de Van Gogh Grandes Éxitos ',\n",
       "    'owner': {'display_name': 'La Oreja de Van Gogh',\n",
       "     'external_urls': {'spotify': 'https://open.spotify.com/user/lodvgoficial'},\n",
       "     'href': 'https://api.spotify.com/v1/users/lodvgoficial',\n",
       "     'id': 'lodvgoficial',\n",
       "     'type': 'user',\n",
       "     'uri': 'spotify:user:lodvgoficial'},\n",
       "    'primary_color': None,\n",
       "    'public': True,\n",
       "    'snapshot_id': 'AAABWKE8UiRcmkwozuXRD7g4XzyShzYg',\n",
       "    'tracks': {'href': 'https://api.spotify.com/v1/playlists/6UIT0dRj63FoxNEHWMqUAX/tracks',\n",
       "     'total': 50},\n",
       "    'type': 'playlist',\n",
       "    'uri': 'spotify:playlist:6UIT0dRj63FoxNEHWMqUAX'}]}}"
      ]
     },
     "execution_count": 66,
     "metadata": {},
     "output_type": "execute_result"
    }
   ],
   "source": [
    "playlist_results"
   ]
  },
  {
   "cell_type": "code",
   "execution_count": 67,
   "metadata": {},
   "outputs": [
    {
     "name": "stdout",
     "output_type": "stream",
     "text": [
      "Playlist ID: 37h7IcJh5jfhG6fImCIV7Y\n"
     ]
    }
   ],
   "source": [
    "# Extraer los IDs de las playlists  y las descripciones\n",
    "if playlist_results and 'playlists' in playlist_results:\n",
    "    playlists = playlist_results['playlists']['items']\n",
    "    if playlists:\n",
    "        playlist_id = playlists[5]['id']\n",
    "        print(f\"Playlist ID: {playlist_id}\")\n",
    "    else:\n",
    "        print(\"No playlists found with that name.\")\n",
    "else:\n",
    "    print(\"No playlist search results.\")"
   ]
  },
  {
   "cell_type": "code",
   "execution_count": 68,
   "metadata": {},
   "outputs": [],
   "source": [
    "playlist_name = 'Mapreduce'\n",
    "playlist_results = sp.search(q=playlist_name, type='playlist')"
   ]
  },
  {
   "cell_type": "code",
   "execution_count": 69,
   "metadata": {},
   "outputs": [
    {
     "name": "stdout",
     "output_type": "stream",
     "text": [
      "Found 1 playlists with the name 'Mapreduce':\n"
     ]
    },
    {
     "ename": "TypeError",
     "evalue": "'NoneType' object is not subscriptable",
     "output_type": "error",
     "traceback": [
      "\u001b[31m---------------------------------------------------------------------------\u001b[39m",
      "\u001b[31mTypeError\u001b[39m                                 Traceback (most recent call last)",
      "\u001b[36mCell\u001b[39m\u001b[36m \u001b[39m\u001b[32mIn[69]\u001b[39m\u001b[32m, line 6\u001b[39m\n\u001b[32m      4\u001b[39m \u001b[38;5;28mprint\u001b[39m(\u001b[33mf\u001b[39m\u001b[33m\"\u001b[39m\u001b[33mFound \u001b[39m\u001b[38;5;132;01m{\u001b[39;00m\u001b[38;5;28mlen\u001b[39m(playlists)\u001b[38;5;132;01m}\u001b[39;00m\u001b[33m playlists with the name \u001b[39m\u001b[33m'\u001b[39m\u001b[38;5;132;01m{\u001b[39;00mplaylist_name\u001b[38;5;132;01m}\u001b[39;00m\u001b[33m'\u001b[39m\u001b[33m:\u001b[39m\u001b[33m\"\u001b[39m)\n\u001b[32m      5\u001b[39m \u001b[38;5;28;01mfor\u001b[39;00m idx, playlist \u001b[38;5;129;01min\u001b[39;00m \u001b[38;5;28menumerate\u001b[39m(playlists):\n\u001b[32m----> \u001b[39m\u001b[32m6\u001b[39m     playlist_id = \u001b[43mplaylist\u001b[49m\u001b[43m[\u001b[49m\u001b[33;43m'\u001b[39;49m\u001b[33;43mid\u001b[39;49m\u001b[33;43m'\u001b[39;49m\u001b[43m]\u001b[49m\n\u001b[32m      7\u001b[39m     playlist_description = playlist[\u001b[33m'\u001b[39m\u001b[33mdescription\u001b[39m\u001b[33m'\u001b[39m]\n\u001b[32m      8\u001b[39m     \u001b[38;5;28mprint\u001b[39m(\u001b[33mf\u001b[39m\u001b[33m\"\u001b[39m\u001b[33mPlaylist \u001b[39m\u001b[38;5;132;01m{\u001b[39;00midx\u001b[38;5;250m \u001b[39m+\u001b[38;5;250m \u001b[39m\u001b[32m1\u001b[39m\u001b[38;5;132;01m}\u001b[39;00m\u001b[33m ID: \u001b[39m\u001b[38;5;132;01m{\u001b[39;00mplaylist_id\u001b[38;5;132;01m}\u001b[39;00m\u001b[33m\"\u001b[39m)\n",
      "\u001b[31mTypeError\u001b[39m: 'NoneType' object is not subscriptable"
     ]
    }
   ],
   "source": [
    "if playlist_results and 'playlists' in playlist_results:\n",
    "    playlists = playlist_results['playlists']['items']\n",
    "    if playlists:\n",
    "        print(f\"Found {len(playlists)} playlists with the name '{playlist_name}':\")\n",
    "        for idx, playlist in enumerate(playlists):\n",
    "            playlist_id = playlist['id']\n",
    "            playlist_description = playlist['description']\n",
    "            print(f\"Playlist {idx + 1} ID: {playlist_id}\")\n",
    "            print(f\"Description: {playlist_description}\\n\")\n",
    "    else:\n",
    "        print(\"No playlists found with that name.\")\n",
    "else:\n",
    "    print(\"No playlist search results.\")"
   ]
  },
  {
   "cell_type": "markdown",
   "metadata": {},
   "source": [
    "#### Describir canciones"
   ]
  },
  {
   "cell_type": "code",
   "execution_count": 70,
   "metadata": {},
   "outputs": [
    {
     "name": "stdout",
     "output_type": "stream",
     "text": [
      "Found 10 tracks with the name 'Me cuesta tanto olvidarte':\n",
      "Track 1 - Me Cuesta Tanto Olvidarte\n",
      "Artist: Mecano\n",
      "Duration: 2:54\n",
      "\n",
      "Track 2 - Bailando Conmigo\n",
      "Artist: Luis Vega\n",
      "Duration: 3:13\n",
      "\n",
      "Track 3 - Me cuesta tanto olvidarte (Detrás de cámaras / Comentarios del director)\n",
      "Artist: Mijares\n",
      "Duration: 3:22\n",
      "\n",
      "Track 4 - Me Cuesta Tanto Olvidarte\n",
      "Artist: Los Ángeles Azules\n",
      "Duration: 2:44\n",
      "\n",
      "Track 5 - Contacto Cero\n",
      "Artist: Luis Vega\n",
      "Duration: 3:38\n",
      "\n",
      "Track 6 - Me cuesta tanto olvidarte\n",
      "Artist: Alex Ubago\n",
      "Duration: 2:27\n",
      "\n",
      "Track 7 - El Ultimo Amor\n",
      "Artist: Luis Vega\n",
      "Duration: 2:42\n",
      "\n",
      "Track 8 - Me Cuesta Tanto Olvidarte\n",
      "Artist: Enrique Iglesias\n",
      "Duration: 3:34\n",
      "\n",
      "Track 9 - Que No Daría Yo\n",
      "Artist: Rebeca\n",
      "Duration: 3:10\n",
      "\n",
      "Track 10 - Enemigo\n",
      "Artist: Luis Vega\n",
      "Duration: 2:44\n",
      "\n"
     ]
    }
   ],
   "source": [
    "# Search for tracks by name\n",
    "track_name = 'Me cuesta tanto olvidarte'\n",
    "track_results = sp.search(q=track_name, type='track', limit=10)\n",
    "\n",
    "# Extract the duration and artist from the search results\n",
    "if track_results and 'tracks' in track_results:\n",
    "    tracks = track_results['tracks']['items']\n",
    "    if tracks:\n",
    "        print(f\"Found {len(tracks)} tracks with the name '{track_name}':\")\n",
    "        for idx, track in enumerate(tracks):\n",
    "            track_name = track['name']\n",
    "            track_duration = track['duration_ms']  # Duration in milliseconds\n",
    "            track_artist = track['artists'][0]['name']\n",
    "            \n",
    "            # Convert duration from milliseconds to minutes and seconds\n",
    "            duration_minutes = track_duration // 60000\n",
    "            duration_seconds = (track_duration % 60000) // 1000\n",
    "            \n",
    "            print(f\"Track {idx + 1} - {track_name}\")\n",
    "            print(f\"Artist: {track_artist}\")\n",
    "            print(f\"Duration: {duration_minutes}:{duration_seconds:02}\\n\")\n",
    "    else:\n",
    "        print(\"No tracks found with that name.\")\n",
    "else:\n",
    "    print(\"No track search results.\")"
   ]
  },
  {
   "cell_type": "markdown",
   "metadata": {},
   "source": [
    "#### Buscar las canciones de un artista"
   ]
  },
  {
   "cell_type": "code",
   "execution_count": 71,
   "metadata": {},
   "outputs": [
    {
     "name": "stdout",
     "output_type": "stream",
     "text": [
      "Albums by Macano:\n",
      "Sin Fronteras\n",
      "  Su Nombre en Mi Cuaderno\n",
      "  Como Hago para Olvidarte\n",
      "  No Me Dejes Solo\n",
      "  No Hay Nadie Como Yo\n",
      "  Se Acabo Tu Juego\n",
      "  Dejame Volver\n",
      "  Yo Te Extrañe\n",
      "  Confidente\n",
      "  Dime\n",
      "  Te Amare\n",
      "  Somos Amantes\n",
      "  No Me Vuelvo a Enamorar\n",
      "Te Amo\n",
      "  Te Amo\n",
      "  Dejame Entrar\n",
      "  Hambriento de Ti\n",
      "  No Quise Hacerte Daño\n",
      "  Te Va a Doler\n",
      "  Para Que Vuelves a Mi Vida\n",
      "  Si Tu No Le Dices\n",
      "  Estoy Amando a Otra\n",
      "  Traicion\n",
      "  Yo Quisiera Vivir\n",
      "  Quisiera Creer\n",
      "  Lo Prefieres a El\n",
      "  Te Quiero\n"
     ]
    }
   ],
   "source": [
    "# Search for the artist by name\n",
    "artist_name = 'Macano'\n",
    "artist_results = sp.search(q=artist_name, type='artist', limit=1)\n",
    "\n",
    "# Extract the artist's ID from the search results\n",
    "if artist_results and 'artists' in artist_results:\n",
    "    artists = artist_results['artists']['items']\n",
    "    if artists:\n",
    "        artist_id = artists[0]['id']\n",
    "        \n",
    "        # Get the artist's albums\n",
    "        artist_albums = sp.artist_albums(artist_id, album_type='album')\n",
    "        \n",
    "        # Extract and print the names of the artist's albums\n",
    "        print(f\"Albums by {artist_name}:\")\n",
    "        for album in artist_albums['items']:\n",
    "            print(album['name'])\n",
    "            \n",
    "            # Get the tracks of each album\n",
    "            album_tracks = sp.album_tracks(album['id'])\n",
    "            \n",
    "            # Print the tracks of the album\n",
    "            for track in album_tracks['items']:\n",
    "                print(f\"  {track['name']}\")\n",
    "    else:\n",
    "        print(\"No artists found with that name.\")\n",
    "else:\n",
    "    print(\"No artist search results.\")"
   ]
  }
 ],
 "metadata": {
  "kernelspec": {
   "display_name": "venv",
   "language": "python",
   "name": "python3"
  },
  "language_info": {
   "codemirror_mode": {
    "name": "ipython",
    "version": 3
   },
   "file_extension": ".py",
   "mimetype": "text/x-python",
   "name": "python",
   "nbconvert_exporter": "python",
   "pygments_lexer": "ipython3",
   "version": "3.13.2"
  }
 },
 "nbformat": 4,
 "nbformat_minor": 2
}
